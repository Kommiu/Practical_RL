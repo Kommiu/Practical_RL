{
 "cells": [
  {
   "cell_type": "code",
   "execution_count": 1,
   "metadata": {},
   "outputs": [],
   "source": [
    "import gym\n",
    "import numpy as np\n",
    "import pandas as pd\n",
    "import multiprocessing as mp\n",
    "from collections import deque\n",
    "from time import time\n",
    "import matplotlib.pyplot as plt\n",
    "from sklearn.neural_network import MLPClassifier\n",
    "%matplotlib inline"
   ]
  },
  {
   "cell_type": "code",
   "execution_count": 2,
   "metadata": {},
   "outputs": [
    {
     "data": {
      "text/plain": [
       "array([ 0.00618305,  1.4184786 ,  0.6262614 ,  0.33592066, -0.00715782,\n",
       "       -0.14185752,  0.        ,  0.        ], dtype=float32)"
      ]
     },
     "execution_count": 2,
     "metadata": {},
     "output_type": "execute_result"
    }
   ],
   "source": [
    "env = gym.make(\"LunarLander-v2\")\n",
    "env.reset()"
   ]
  },
  {
   "cell_type": "code",
   "execution_count": 9,
   "metadata": {},
   "outputs": [
    {
     "data": {
      "text/plain": [
       "<matplotlib.image.AxesImage at 0x7f5c5d60c2e8>"
      ]
     },
     "execution_count": 9,
     "metadata": {},
     "output_type": "execute_result"
    },
    {
     "data": {
      "image/png": "[encoded data removed]",
      "text/plain": [
       "<Figure size 432x288 with 1 Axes>"
      ]
     },
     "metadata": {
      "needs_background": "light"
     },
     "output_type": "display_data"
    }
   ],
   "source": [
    "plt.imshow(env.render('rgb_array'))"
   ]
  },
  {
   "cell_type": "code",
   "execution_count": 4,
   "metadata": {},
   "outputs": [],
   "source": [
    "n_actions = env.action_space.n"
   ]
  },
  {
   "cell_type": "code",
   "execution_count": 5,
   "metadata": {},
   "outputs": [],
   "source": [
    "def select_elites(states_batch, actions_batch, rewards_batch, percentile=50):\n",
    "    \"\"\"\n",
    "    Select states and actions from games that have rewards >= percentile\n",
    "    :param states_batch: list of lists of states, states_batch[session_i][t]\n",
    "    :param actions_batch: list of lists of actions, actions_batch[session_i][t]\n",
    "    :param rewards_batch: list of rewards, rewards_batch[session_i]\n",
    "\n",
    "    :returns: elite_states,elite_actions, both 1D lists of states and respective actions from elite sessions\n",
    "\n",
    "    Please return elite states and actions in their original order \n",
    "    [i.e. sorted by session number and timestep within session]\n",
    "\n",
    "    If you're confused, see examples below. Please don't assume that states are integers (they'll get different later).\n",
    "    \"\"\"\n",
    "\n",
    "    reward_threshold = np.percentile(rewards_batch, percentile)\n",
    "\n",
    "    elite_states = []\n",
    "    elite_actions = []\n",
    "    \n",
    "    for i,r in enumerate(rewards_batch):\n",
    "        if r > reward_threshold:\n",
    "            elite_states.extend(states_batch[i])\n",
    "            elite_actions.extend(actions_batch[i])\n",
    "    \n",
    "    return elite_states, elite_actions"
   ]
  },
  {
   "cell_type": "code",
   "execution_count": 6,
   "metadata": {},
   "outputs": [],
   "source": [
    "def generate_session(agent, t_max=1000):\n",
    "\n",
    "    states, actions = [], []\n",
    "    total_reward = 0\n",
    "\n",
    "    s = env.reset()\n",
    "\n",
    "    for t in range(t_max):\n",
    "\n",
    "        # predict array of action probabilities\n",
    "        probs = agent.predict_proba([s])[0]\n",
    "\n",
    "        a = np.random.choice(np.arange(n_actions), p=probs)\n",
    "\n",
    "        new_s, r, done, info = env.step(a)\n",
    "\n",
    "        # record sessions like you did before\n",
    "        states.append(s)\n",
    "        actions.append(a)\n",
    "        total_reward += r\n",
    "\n",
    "        s = new_s\n",
    "        if done:\n",
    "            break\n",
    "    return states, actions, total_reward"
   ]
  },
  {
   "cell_type": "code",
   "execution_count": 7,
   "metadata": {},
   "outputs": [],
   "source": [
    "from IPython.display import clear_output\n",
    "\n",
    "\n",
    "def show_progress(log,percentile=50,clear=False, reward_range=[-990, +10]):\n",
    "    \"\"\"\n",
    "    A convenience function that displays training progress. \n",
    "    No cool math here, just charts.\n",
    "    \"\"\"\n",
    "\n",
    "    mean_rewards = log.mean(axis=1)\n",
    "    thresholds = np.percentile(log, percentile, axis=1)\n",
    "\n",
    "    if clear:\n",
    "        clear_output(True)\n",
    "    print(\"mean reward = %.3f, threshold=%.3f\" % (mean_rewards[-1], threshold))\n",
    "    plt.figure(figsize=[8, 4])\n",
    "    plt.subplot(1, 2, 1)\n",
    "    plt.plot(mean_rewards, label='Mean rewards')\n",
    "    plt.plot(thresholds, label='Reward thresholds')\n",
    "    plt.legend()\n",
    "    plt.grid()\n",
    "\n",
    "    plt.subplot(1, 2, 2)\n",
    "    plt.hist(log[-1], range=reward_range)\n",
    "    plt.vlines([thresholds[-1]],\n",
    "               [0], [100], label=\"percentile\", color='red')\n",
    "    plt.legend()\n",
    "    plt.grid()\n",
    "\n",
    "    plt.show()"
   ]
  },
  {
   "cell_type": "code",
   "execution_count": 55,
   "metadata": {},
   "outputs": [
    {
     "name": "stderr",
     "output_type": "stream",
     "text": [
      "/home/kommiu/Projects/hse/RL/venv/lib/python3.7/site-packages/sklearn/neural_network/multilayer_perceptron.py:562: ConvergenceWarning: Stochastic Optimizer: Maximum iterations (1) reached and the optimization hasn't converged yet.\n",
      "  % self.max_iter, ConvergenceWarning)\n"
     ]
    },
    {
     "data": {
      "text/plain": [
       "MLPClassifier(activation='tanh', alpha=0.0001, batch_size='auto', beta_1=0.9,\n",
       "       beta_2=0.999, early_stopping=False, epsilon=1e-08,\n",
       "       hidden_layer_sizes=(20, 20), learning_rate='constant',\n",
       "       learning_rate_init=0.001, max_iter=1, momentum=0.9,\n",
       "       n_iter_no_change=10, nesterovs_momentum=True, power_t=0.5,\n",
       "       random_state=None, shuffle=True, solver='adam', tol=0.0001,\n",
       "       validation_fraction=0.1, verbose=False, warm_start=True)"
      ]
     },
     "execution_count": 55,
     "metadata": {},
     "output_type": "execute_result"
    }
   ],
   "source": [
    "# create agent\n",
    "from sklearn.neural_network import MLPClassifier\n",
    "agent = MLPClassifier(hidden_layer_sizes=(20,20),\n",
    "                      activation='tanh',\n",
    "                      warm_start=True,  # keep progress between .fit(...) calls\n",
    "                      max_iter=1 # make only 1 iteration on each .fit(...)\n",
    "                      )\n",
    "# initialize agent to the dimension of state an amount of actions\n",
    "agent.fit([env.reset()]*n_actions, range(n_actions))"
   ]
  },
  {
   "cell_type": "code",
   "execution_count": null,
   "metadata": {},
   "outputs": [],
   "source": [
    "def train(agent, pool, n_sessions=100, percentile=50,depth=1, n_iter=100, plot=False):\n",
    "    \n",
    "    states_batch = deque([], maxlen=depth*n_sessions)\n",
    "    actions_batch = deque([], maxlen=depth*n_sessions)\n",
    "    rewards_batch = deque([], maxlen=depth*n_sessions)\n",
    "    \n",
    "    times = []\n",
    "    log = np.zeros((n_iter, n_sessions))\n",
    "    \n",
    "    for i in range(n_iter):\n",
    "        t = []\n",
    "        \n",
    "        t.append(time())\n",
    "        if pool:\n",
    "            sessions = list(pool.imap_unordered(generate_session), [agent for _ in range(n_sessions)])\n",
    "        else:\n",
    "            sessions = [generate_session(agent) for _ in range(n_sessions)]\n",
    "            \n",
    "        t.append(time())\n",
    "        s, a, r = map(np.array, zip(*sessions))\n",
    "        \n",
    "        t.append(time())\n",
    "        \n",
    "        states_batch.extend(s)\n",
    "        actions_batch.extend(a)\n",
    "        rewards_batch.extend(r)\n",
    "        t.append(time())\n",
    "        \n",
    "        elite_states, elite_actions = select_elites(states_batch, actions_batch,rewards_batch, percentile)\n",
    "\n",
    "        t.append(time())\n",
    "        agent.fit(elite_states,elite_actions)\n",
    "    \n",
    "        t.append(time())\n",
    "        log[i,:] = np.array(r)\n",
    "        \n",
    "        t.append(time())\n",
    "        \n",
    "        if plot:\n",
    "            show_progress(log[:i+1], percentile, reward_range)\n",
    "            t.append(time())\n",
    "    \n",
    "        times.append(t)\n"
   ]
  },
  {
   "cell_type": "code",
   "execution_count": null,
   "metadata": {},
   "outputs": [
    {
     "name": "stdout",
     "output_type": "stream",
     "text": [
      "mean reward = -3.600, threshold=9.254\n"
     ]
    },
    {
     "data": {
      "image/png": "[encoded data removed]",
      "text/plain": [
       "<Figure size 576x288 with 2 Axes>"
      ]
     },
     "metadata": {
      "needs_background": "light"
     },
     "output_type": "display_data"
    }
   ],
   "source": [
    "n_sessions = 100\n",
    "percentile = 60\n",
    "log = []\n",
    "depth = 1\n",
    "\n",
    "\n",
    "\n",
    "\n",
    "\n",
    "for i in range(100):\n",
    "    # generate new sessions\n",
    "    pool = mp.Pool(processes=4)\n",
    "    t = []\n",
    "    t.append(time())\n",
    "    \n",
    "    sessions = [pool.apply(generate_session) for x in range(n_sessions)]\n",
    "    \n",
    "    t.append(time())\n",
    "    s, a, r = map(np.array, zip(*sessions))\n",
    "    \n",
    "    t.append(time())\n",
    "    states_batch.extend(s)\n",
    "    actions_batch.extend(a)\n",
    "    rewards_batch.extend(r)\n",
    "    \n",
    "    t.append(time())\n",
    "    elite_states, elite_actions = select_elites(states_batch, actions_batch,rewards_batch,percentile)\n",
    "    \n",
    "    t.append(time())\n",
    "    agent.fit(elite_states,elite_actions)\n",
    "    \n",
    "    t.append(time())\n",
    "    show_progress(r, log)\n",
    "    t.append(time())\n",
    "    \n",
    "    times.append(t)\n",
    "\n",
    "    if np.mean(rewards_batch) >= 50:\n",
    "        print(\"You Win! You may stop training now via KeyboardInterrupt.\")"
   ]
  },
  {
   "cell_type": "code",
   "execution_count": 48,
   "metadata": {},
   "outputs": [
    {
     "data": {
      "text/plain": [
       "array([ 0.0052    ,  1.4047449 ,  0.5266802 , -0.27447233, -0.00601863,\n",
       "       -0.11930102,  0.        ,  0.        ], dtype=float32)"
      ]
     },
     "execution_count": 48,
     "metadata": {},
     "output_type": "execute_result"
    }
   ],
   "source": [
    "results[0][0][0]"
   ]
  },
  {
   "cell_type": "code",
   "execution_count": 54,
   "metadata": {},
   "outputs": [
    {
     "data": {
      "text/plain": [
       "array([0.34292109, 0.19614281, 0.32891377, 0.13202233])"
      ]
     },
     "execution_count": 54,
     "metadata": {},
     "output_type": "execute_result"
    }
   ],
   "source": [
    "agent.predict_proba([env.reset()])[0]"
   ]
  },
  {
   "cell_type": "code",
   "execution_count": null,
   "metadata": {},
   "outputs": [],
   "source": []
  }
 ],
 "metadata": {
  "kernelspec": {
   "display_name": "Python 3",
   "language": "python",
   "name": "python3"
  },
  "language_info": {
   "codemirror_mode": {
    "name": "ipython",
    "version": 3
   },
   "file_extension": ".py",
   "mimetype": "text/x-python",
   "name": "python",
   "nbconvert_exporter": "python",
   "pygments_lexer": "ipython3",
   "version": "3.7.2"
  }
 },
 "nbformat": 4,
 "nbformat_minor": 2
}
